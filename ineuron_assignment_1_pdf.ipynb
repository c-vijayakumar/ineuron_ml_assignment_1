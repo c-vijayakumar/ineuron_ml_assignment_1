{
 "cells": [
  {
   "cell_type": "markdown",
   "metadata": {
    "colab_type": "text",
    "id": "tRBxKefrNQPO"
   },
   "source": [
    "# <font color='#0000A0'>Assignment-1</font>"
   ]
  },
  {
   "cell_type": "markdown",
   "metadata": {
    "colab_type": "text",
    "id": "CqVpW3JHiwEO"
   },
   "source": [
    "## <font color='#0000A0'>Task 1</font> "
   ]
  },
  {
   "cell_type": "markdown",
   "metadata": {
    "colab_type": "text",
    "id": "dOiKgCRyNr1l"
   },
   "source": [
    "### <font color='#0000A0'>1. Install Jupyter notebook and run the first program and share the screenshot of the output.</font>"
   ]
  },
  {
   "cell_type": "code",
   "execution_count": 2,
   "metadata": {
    "colab": {
     "base_uri": "https://localhost:8080/",
     "height": 34
    },
    "colab_type": "code",
    "collapsed": false,
    "id": "0MESs8unN6cH",
    "outputId": "06db53f0-2e44-4f97-de8a-0cd2e0935521"
   },
   "outputs": [
    {
     "name": "stdout",
     "output_type": "stream",
     "text": [
      "Welcome To ML using Python\n"
     ]
    }
   ],
   "source": [
    "print('Welcome To ML using Python')"
   ]
  },
  {
   "cell_type": "markdown",
   "metadata": {
    "colab_type": "text",
    "id": "z2bih0N2hbIX"
   },
   "source": [
    "### <font color='#0000A0'>2. Write a program which will find all such numbers which are divisible by 7 but are not a multipleof 5, between 2000 and 3200 (both included). The numbers obtained should be printed in acomma-separated sequence on a single line.</font>"
   ]
  },
  {
   "cell_type": "code",
   "execution_count": 1,
   "metadata": {
    "colab": {
     "base_uri": "https://localhost:8080/",
     "height": 54
    },
    "colab_type": "code",
    "collapsed": false,
    "id": "qA-3zfikXFnI",
    "outputId": "8cfeadbf-7903-4bb2-a887-b68dd1850753"
   },
   "outputs": [
    {
     "name": "stdout",
     "output_type": "stream",
     "text": [
      "[2002, 2009, 2016, 2023, 2037, 2044, 2051, 2058, 2072, 2079, 2086, 2093, 2107, 2114, 2121, 2128, 2142, 2149, 2156, 2163, 2177, 2184, 2191, 2198, 2212, 2219, 2226, 2233, 2247, 2254, 2261, 2268, 2282, 2289, 2296, 2303, 2317, 2324, 2331, 2338, 2352, 2359, 2366, 2373, 2387, 2394, 2401, 2408, 2422, 2429, 2436, 2443, 2457, 2464, 2471, 2478, 2492, 2499, 2506, 2513, 2527, 2534, 2541, 2548, 2562, 2569, 2576, 2583, 2597, 2604, 2611, 2618, 2632, 2639, 2646, 2653, 2667, 2674, 2681, 2688, 2702, 2709, 2716, 2723, 2737, 2744, 2751, 2758, 2772, 2779, 2786, 2793, 2807, 2814, 2821, 2828, 2842, 2849, 2856, 2863, 2877, 2884, 2891, 2898, 2912, 2919, 2926, 2933, 2947, 2954, 2961, 2968, 2982, 2989, 2996, 3003, 3017, 3024, 3031, 3038, 3052, 3059, 3066, 3073, 3087, 3094, 3101, 3108, 3122, 3129, 3136, 3143, 3157, 3164, 3171, 3178, 3192, 3199]\n"
     ]
    }
   ],
   "source": [
    "number_list = []\n",
    "for number in range(2000, 3201):\n",
    "    if number % 7 == 0 and number % 5 != 0:\n",
    "        number_list.append(number)\n",
    "print(number_list)\n"
   ]
  },
  {
   "cell_type": "markdown",
   "metadata": {
    "colab_type": "text",
    "id": "8RAW4BTwhoHv"
   },
   "source": [
    "### <font color='#0000A0'>3. Write a Python program to accept the user's first and last name and then getting them printed inthe the reverse order with a space between first name and last name</font>"
   ]
  },
  {
   "cell_type": "code",
   "execution_count": 3,
   "metadata": {
    "colab": {
     "base_uri": "https://localhost:8080/",
     "height": 67
    },
    "colab_type": "code",
    "collapsed": false,
    "id": "2qNt3jt6hzl2",
    "outputId": "3cf57b28-e676-4d35-f738-df640d2ee50f"
   },
   "outputs": [
    {
     "name": "stdout",
     "output_type": "stream",
     "text": [
      "Enter First Name: Vijayakumar\n",
      "Enter Last Name: Chinnaiyan\n"
     ]
    },
    {
     "data": {
      "text/plain": [
       "'nayiannihC ramukayajiV'"
      ]
     },
     "execution_count": 3,
     "metadata": {},
     "output_type": "execute_result"
    }
   ],
   "source": [
    "first_name = input('Enter First Name: ')\n",
    "last_name = input('Enter Last Name: ')\n",
    "\n",
    "name = '{} {}'.format(first_name, last_name)\n",
    "name[::-1]"
   ]
  },
  {
   "cell_type": "markdown",
   "metadata": {
    "colab_type": "text",
    "id": "8-LegDODiXrs"
   },
   "source": [
    "### <font color='#0000A0'>4. Write a Python program to find the volume of a sphere with diameter 12 cm</font>"
   ]
  },
  {
   "cell_type": "code",
   "execution_count": 4,
   "metadata": {
    "colab": {
     "base_uri": "https://localhost:8080/",
     "height": 34
    },
    "colab_type": "code",
    "collapsed": false,
    "id": "_TEPxQhsia5H",
    "outputId": "604e9775-4936-48f5-d665-7a02b029b687"
   },
   "outputs": [
    {
     "name": "stdout",
     "output_type": "stream",
     "text": [
      "Volume of sphere with diameter of 12 cm is  7234.5599999999995\n"
     ]
    }
   ],
   "source": [
    "diameter = 12\n",
    "π = 3.14\n",
    "volume = (4/3) *  π * (diameter**3)\n",
    "print('Volume of sphere with diameter of 12 cm is ', volume)"
   ]
  },
  {
   "cell_type": "markdown",
   "metadata": {
    "colab_type": "text",
    "id": "yQG7OvIji5pQ"
   },
   "source": [
    "## <font color='#0000A0'>Task 2</font>"
   ]
  },
  {
   "cell_type": "markdown",
   "metadata": {
    "colab_type": "text",
    "id": "D55hLIGQjWPE"
   },
   "source": [
    "### <font color='#0000A0'>1. Write a program which accepts a sequence of comma-separated numbers from console andgenerate a list</font>"
   ]
  },
  {
   "cell_type": "code",
   "execution_count": 5,
   "metadata": {
    "colab": {
     "base_uri": "https://localhost:8080/",
     "height": 50
    },
    "colab_type": "code",
    "collapsed": false,
    "id": "660AanZPjdLW",
    "outputId": "355ea1ad-e814-40bb-d654-2d4240c8a9d9"
   },
   "outputs": [
    {
     "name": "stdout",
     "output_type": "stream",
     "text": [
      "Enter list of numbers seperated by comma: 30,34,vijay,45,67,34,89\n",
      "[30, 34, 45, 67, 34, 89]\n"
     ]
    }
   ],
   "source": [
    "numbers = input('Enter list of numbers seperated by comma: ')\n",
    "#numbers_lst = numbers.split(',')\n",
    "numbers = [int(number) for number in numbers.split(',') if number.isnumeric()]\n",
    "print(numbers)"
   ]
  },
  {
   "cell_type": "markdown",
   "metadata": {
    "colab_type": "text",
    "id": "H19LnM0ElVRQ"
   },
   "source": [
    "### <font color='#0000A0'>2. Create the below pattern using nested for loop in Python.</font>"
   ]
  },
  {
   "cell_type": "code",
   "execution_count": 7,
   "metadata": {
    "colab": {
     "base_uri": "https://localhost:8080/",
     "height": 170
    },
    "colab_type": "code",
    "collapsed": false,
    "id": "zDIdadsyi8eW",
    "outputId": "0cb00582-5fbd-4c30-af62-d29becc78cd4"
   },
   "outputs": [
    {
     "name": "stdout",
     "output_type": "stream",
     "text": [
      "*\n",
      "**\n",
      "***\n",
      "****\n",
      "*****\n",
      "****\n",
      "***\n",
      "**\n",
      "*\n"
     ]
    }
   ],
   "source": [
    "character = '*'\n",
    "\n",
    "list_with_inner_list = list()\n",
    "list_with_inner_list.append(list(range(1, 6)))\n",
    "list_with_inner_list.append(list(range(4, 0, -1)))\n",
    "\n",
    "for inner_list in list_with_inner_list:\n",
    "    for list_item in inner_list:\n",
    "        print( character * list_item)"
   ]
  },
  {
   "cell_type": "markdown",
   "metadata": {
    "colab_type": "text",
    "id": "cnwSkYgRmyuD"
   },
   "source": [
    "### <font color='#0000A0'>3. Write a Python program to reverse a word after accepting the input from the user.</font>"
   ]
  },
  {
   "cell_type": "code",
   "execution_count": 0,
   "metadata": {
    "colab": {
     "base_uri": "https://localhost:8080/",
     "height": 50
    },
    "colab_type": "code",
    "collapsed": false,
    "id": "l5SC6Sahm1by",
    "outputId": "922cc920-3da9-40f4-d338-45c062828314"
   },
   "outputs": [
    {
     "name": "stdout",
     "output_type": "stream",
     "text": [
      "Input Word: Vijayakumar\n",
      "Output:  ramukayajiV\n"
     ]
    }
   ],
   "source": [
    "word = input('Input Word: ')\n",
    "print('Output: ', word[::-1])"
   ]
  },
  {
   "cell_type": "markdown",
   "metadata": {
    "colab_type": "text",
    "id": "vVu-Mju0ncq9"
   },
   "source": [
    "### <font color='#0000A0'>4. Write a Python Program to print the given string in the format specified in the ​sample output</font>"
   ]
  },
  {
   "cell_type": "code",
   "execution_count": 0,
   "metadata": {
    "colab": {
     "base_uri": "https://localhost:8080/",
     "height": 84
    },
    "colab_type": "code",
    "collapsed": false,
    "id": "mOnFa5Jynj3r",
    "outputId": "12440075-0dbe-49ae-d71f-59d2163648a9",
    "scrolled": true
   },
   "outputs": [
    {
     "name": "stdout",
     "output_type": "stream",
     "text": [
      "WE, THE PEOPLE OF INDIA, \n",
      "\thaving solemnly resolved to constitute India into a SOVEREIGN !, \n",
      "\t\tSOCIALIST, SECULAR, DEMOCRATIC REPUBLIC\n",
      "\t\t and to secure to allits citizens\n"
     ]
    }
   ],
   "source": [
    "sentence = 'WE, THE PEOPLE OF INDIA, \\n\\thaving solemnly resolved to constitute India into a SOVEREIGN !, \\n\\t\\tSOCIALIST, SECULAR, DEMOCRATIC REPUBLIC\\n\\t\\t and to secure to allits citizens'\n",
    "print(sentence)"
   ]
  }
 ],
 "metadata": {
  "anaconda-cloud": {},
  "colab": {
   "collapsed_sections": [],
   "name": "ineuron-assignment-1.pdf.ipynb",
   "provenance": []
  },
  "kernelspec": {
   "display_name": "Python [default]",
   "language": "python",
   "name": "python3"
  },
  "language_info": {
   "codemirror_mode": {
    "name": "ipython",
    "version": 3
   },
   "file_extension": ".py",
   "mimetype": "text/x-python",
   "name": "python",
   "nbconvert_exporter": "python",
   "pygments_lexer": "ipython3",
   "version": "3.5.2"
  }
 },
 "nbformat": 4,
 "nbformat_minor": 0
}
